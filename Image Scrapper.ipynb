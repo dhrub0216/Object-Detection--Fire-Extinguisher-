{
 "cells": [
  {
   "cell_type": "code",
   "execution_count": 2,
   "metadata": {},
   "outputs": [
    {
     "data": {
      "text/html": [
       "<div>\n",
       "<style scoped>\n",
       "    .dataframe tbody tr th:only-of-type {\n",
       "        vertical-align: middle;\n",
       "    }\n",
       "\n",
       "    .dataframe tbody tr th {\n",
       "        vertical-align: top;\n",
       "    }\n",
       "\n",
       "    .dataframe thead th {\n",
       "        text-align: right;\n",
       "    }\n",
       "</style>\n",
       "<table border=\"1\" class=\"dataframe\">\n",
       "  <thead>\n",
       "    <tr style=\"text-align: right;\">\n",
       "      <th></th>\n",
       "      <th>ContinentCode</th>\n",
       "      <th>Alpha2</th>\n",
       "      <th>Alpha3</th>\n",
       "      <th>PhoneCode</th>\n",
       "      <th>Name</th>\n",
       "    </tr>\n",
       "  </thead>\n",
       "  <tbody>\n",
       "    <tr>\n",
       "      <td>0</td>\n",
       "      <td>AS</td>\n",
       "      <td>AF</td>\n",
       "      <td>AFG</td>\n",
       "      <td>004</td>\n",
       "      <td>Afghanistan, Islamic Republic of</td>\n",
       "    </tr>\n",
       "    <tr>\n",
       "      <td>1</td>\n",
       "      <td>EU</td>\n",
       "      <td>AL</td>\n",
       "      <td>ALB</td>\n",
       "      <td>008</td>\n",
       "      <td>Albania, Republic of</td>\n",
       "    </tr>\n",
       "    <tr>\n",
       "      <td>2</td>\n",
       "      <td>AN</td>\n",
       "      <td>AQ</td>\n",
       "      <td>ATA</td>\n",
       "      <td>010</td>\n",
       "      <td>Antarctica (the territory South of 60 deg S)</td>\n",
       "    </tr>\n",
       "    <tr>\n",
       "      <td>3</td>\n",
       "      <td>AF</td>\n",
       "      <td>DZ</td>\n",
       "      <td>DZA</td>\n",
       "      <td>012</td>\n",
       "      <td>Algeria, People's Democratic Republic of</td>\n",
       "    </tr>\n",
       "    <tr>\n",
       "      <td>4</td>\n",
       "      <td>OC</td>\n",
       "      <td>AS</td>\n",
       "      <td>ASM</td>\n",
       "      <td>016</td>\n",
       "      <td>American Samoa</td>\n",
       "    </tr>\n",
       "    <tr>\n",
       "      <td>...</td>\n",
       "      <td>...</td>\n",
       "      <td>...</td>\n",
       "      <td>...</td>\n",
       "      <td>...</td>\n",
       "      <td>...</td>\n",
       "    </tr>\n",
       "    <tr>\n",
       "      <td>257</td>\n",
       "      <td>AS</td>\n",
       "      <td>YE</td>\n",
       "      <td>YEM</td>\n",
       "      <td>887</td>\n",
       "      <td>Yemen</td>\n",
       "    </tr>\n",
       "    <tr>\n",
       "      <td>258</td>\n",
       "      <td>AF</td>\n",
       "      <td>ZM</td>\n",
       "      <td>ZMB</td>\n",
       "      <td>894</td>\n",
       "      <td>Zambia, Republic of</td>\n",
       "    </tr>\n",
       "    <tr>\n",
       "      <td>259</td>\n",
       "      <td>AS</td>\n",
       "      <td>XD</td>\n",
       "      <td>null</td>\n",
       "      <td>null</td>\n",
       "      <td>United Nations Neutral Zone</td>\n",
       "    </tr>\n",
       "    <tr>\n",
       "      <td>260</td>\n",
       "      <td>AS</td>\n",
       "      <td>XS</td>\n",
       "      <td>null</td>\n",
       "      <td>null</td>\n",
       "      <td>Spratly Islands</td>\n",
       "    </tr>\n",
       "    <tr>\n",
       "      <td>261</td>\n",
       "      <td>OC</td>\n",
       "      <td>XX</td>\n",
       "      <td>null</td>\n",
       "      <td>null</td>\n",
       "      <td>Disputed Territory</td>\n",
       "    </tr>\n",
       "  </tbody>\n",
       "</table>\n",
       "<p>262 rows × 5 columns</p>\n",
       "</div>"
      ],
      "text/plain": [
       "    ContinentCode Alpha2 Alpha3 PhoneCode  \\\n",
       "0              AS     AF    AFG       004   \n",
       "1              EU     AL    ALB       008   \n",
       "2              AN     AQ    ATA       010   \n",
       "3              AF     DZ    DZA       012   \n",
       "4              OC     AS    ASM       016   \n",
       "..            ...    ...    ...       ...   \n",
       "257            AS     YE    YEM       887   \n",
       "258            AF     ZM    ZMB       894   \n",
       "259            AS     XD   null      null   \n",
       "260            AS     XS   null      null   \n",
       "261            OC     XX   null      null   \n",
       "\n",
       "                                             Name  \n",
       "0                Afghanistan, Islamic Republic of  \n",
       "1                            Albania, Republic of  \n",
       "2    Antarctica (the territory South of 60 deg S)  \n",
       "3        Algeria, People's Democratic Republic of  \n",
       "4                                  American Samoa  \n",
       "..                                            ...  \n",
       "257                                         Yemen  \n",
       "258                           Zambia, Republic of  \n",
       "259                   United Nations Neutral Zone  \n",
       "260                               Spratly Islands  \n",
       "261                            Disputed Territory  \n",
       "\n",
       "[262 rows x 5 columns]"
      ]
     },
     "execution_count": 2,
     "metadata": {},
     "output_type": "execute_result"
    }
   ],
   "source": [
    "import requests\n",
    "from bs4 import BeautifulSoup\n",
    "import pandas as pd\n",
    "\n",
    "# download wikipage\n",
    "wikipage = \"https://en.wikipedia.org/wiki/List_of_sovereign_states_and_dependent_territories_by_continent_(data_file)\"\n",
    "result = requests.get(wikipage)\n",
    "\n",
    "# if successful parse the download into a BeautifulSoup object, which allows easy manipulation \n",
    "if result.status_code == 200:\n",
    "    soup = BeautifulSoup(result.content, \"html.parser\")\n",
    "    \n",
    "# find the object with HTML class wibitable sortable\n",
    "table = soup.find('table',{'class':'wikitable sortable'})\n",
    "\n",
    "# loop through all the rows and pull the text\n",
    "new_table = []\n",
    "for row in table.find_all('tr')[1:]:\n",
    "    column_marker = 0\n",
    "    columns = row.find_all('td')\n",
    "    new_table.append([column.get_text() for column in columns])\n",
    "    \n",
    "df = pd.DataFrame(new_table, columns=['ContinentCode','Alpha2','Alpha3','PhoneCode','Name'])\n",
    "df['Name'] = df['Name'].str.replace('\\n','')\n",
    "df"
   ]
  },
  {
   "cell_type": "code",
   "execution_count": 74,
   "metadata": {
    "scrolled": true
   },
   "outputs": [],
   "source": [
    "\n",
    "from selenium import webdriver\n",
    "import os\n",
    "import time\n",
    "wd = webdriver.Chrome (executable_path=r'E:/Scraping/chromedriver.exe')"
   ]
  },
  {
   "cell_type": "code",
   "execution_count": 75,
   "metadata": {},
   "outputs": [
    {
     "data": {
      "text/plain": [
       "<selenium.webdriver.chrome.webdriver.WebDriver (session=\"6f78a09cd9372021a2dc22fbb246e35f\")>"
      ]
     },
     "execution_count": 75,
     "metadata": {},
     "output_type": "execute_result"
    }
   ],
   "source": [
    "wd"
   ]
  },
  {
   "cell_type": "code",
   "execution_count": 76,
   "metadata": {},
   "outputs": [],
   "source": [
    "def fetch_image_urls(query:str, max_links_to_fetch:int, wd:webdriver, sleep_between_interactions:int=1):\n",
    "    def scroll_to_end(wd):\n",
    "        wd.execute_script(\"window.scrollTo(0, document.body.scrollHeight);\")\n",
    "        time.sleep(sleep_between_interactions)    \n",
    "    \n",
    "    # build the google query\n",
    "    search_url = \"https://www.google.com/search?safe=off&site=&tbm=isch&source=hp&q={q}&oq={q}&gs_l=img\"\n",
    "\n",
    "    # load the page\n",
    "    wd.get(search_url.format(q=query))\n",
    "\n",
    "    image_urls = set()\n",
    "    image_count = 0\n",
    "    results_start = 0\n",
    "    while image_count < max_links_to_fetch:\n",
    "        scroll_to_end(wd)\n",
    "\n",
    "        # get all image thumbnail results\n",
    "        thumbnail_results = wd.find_elements_by_css_selector(\"img.Q4LuWd\")\n",
    "        number_results = len(thumbnail_results)\n",
    "        \n",
    "        print(f\"Found: {number_results} search results. Extracting links from {results_start}:{number_results}\")\n",
    "        \n",
    "        for img in thumbnail_results[results_start:number_results]:\n",
    "            # try to click every thumbnail such that we can get the real image behind it\n",
    "            try:\n",
    "                img.click()\n",
    "                time.sleep(sleep_between_interactions)\n",
    "            except Exception:\n",
    "                continue\n",
    "\n",
    "            # extract image urls    \n",
    "            actual_images = wd.find_elements_by_css_selector('img.n3VNCb')\n",
    "            for actual_image in actual_images:\n",
    "                if actual_image.get_attribute('src') and 'http' in actual_image.get_attribute('src'):\n",
    "                    image_urls.add(actual_image.get_attribute('src'))\n",
    "\n",
    "            image_count = len(image_urls)\n",
    "\n",
    "            if len(image_urls) >= max_links_to_fetch:\n",
    "                print(f\"Found: {len(image_urls)} image links, done!\")\n",
    "                break\n",
    "        else:\n",
    "            print(\"Found:\", len(image_urls), \"image links, looking for more ...\")\n",
    "            time.sleep(30)\n",
    "            return\n",
    "            load_more_button = wd.find_element_by_css_selector(\".mye4qd\")\n",
    "            if load_more_button:\n",
    "                wd.execute_script(\"document.querySelector('.mye4qd').click();\")\n",
    "\n",
    "        # move the result startpoint further down\n",
    "        results_start = len(thumbnail_results)\n",
    "\n",
    "    return image_urls"
   ]
  },
  {
   "cell_type": "code",
   "execution_count": 77,
   "metadata": {},
   "outputs": [],
   "source": [
    "wd.get('https://google.com')"
   ]
  },
  {
   "cell_type": "code",
   "execution_count": 78,
   "metadata": {},
   "outputs": [],
   "source": [
    "search_box = wd.find_element_by_css_selector('input.gLFyf')\n",
    "search_box.send_keys('Dogs')"
   ]
  },
  {
   "cell_type": "code",
   "execution_count": 92,
   "metadata": {
    "scrolled": true
   },
   "outputs": [],
   "source": [
    "import io\n",
    "from PIL import Image \n",
    "import hashlib\n"
   ]
  },
  {
   "cell_type": "code",
   "execution_count": 93,
   "metadata": {},
   "outputs": [],
   "source": [
    "def persist_image(folder_path:str,url:str):\n",
    "    try:\n",
    "        image_content = requests.get(url).content\n",
    "\n",
    "    except Exception as e:\n",
    "        print(f\"ERROR - Could not download {url} - {e}\")\n",
    "\n",
    "    try:\n",
    "        image_file = io.BytesIO(image_content)\n",
    "        image = Image.open(image_file).convert('RGB')\n",
    "        file_path = os.path.join(folder_path,hashlib.sha1(image_content).hexdigest()[:10] + '.jpg')\n",
    "        with open(file_path, 'wb') as f:\n",
    "            image.save(f, \"JPEG\", quality=85)\n",
    "        print(f\"SUCCESS - saved {url} - as {file_path}\")\n",
    "    except Exception as e:\n",
    "        print(f\"ERROR - Could not save {url} - {e}\")"
   ]
  },
  {
   "cell_type": "code",
   "execution_count": 94,
   "metadata": {},
   "outputs": [],
   "source": [
    "def search_and_download(search_term:str,driver_path:str,target_path='./images',number_images=5):\n",
    "    target_folder = os.path.join(target_path,'_'.join(search_term.lower().split(' ')))\n",
    "\n",
    "    if not os.path.exists(target_folder):\n",
    "        os.makedirs(target_folder)\n",
    "\n",
    "    with webdriver.Chrome(executable_path=driver_path) as wd:\n",
    "        res = fetch_image_urls(search_term, number_images, wd=wd, sleep_between_interactions=0.5)\n",
    "        \n",
    "    for elem in res:\n",
    "        persist_image(target_folder,elem)"
   ]
  },
  {
   "cell_type": "code",
   "execution_count": 97,
   "metadata": {},
   "outputs": [
    {
     "name": "stdout",
     "output_type": "stream",
     "text": [
      "Found: 100 search results. Extracting links from 0:100\n",
      "Found: 50 image links, done!\n",
      "SUCCESS - saved https://encrypted-tbn0.gstatic.com/images?q=tbn%3AANd9GcS8PW6SEJgg0vHls3-__O3PdTva0VLJ4Pt9Mg&usqp=CAU - as E:/Scraping/images\\fire_extinguisher\\f55945e084.jpg\n",
      "SUCCESS - saved https://encrypted-tbn0.gstatic.com/images?q=tbn%3AANd9GcRdykaKTs2xzlBp4Sfuzw2fxCSc2SR-I6TZTw&usqp=CAU - as E:/Scraping/images\\fire_extinguisher\\682a4cc810.jpg\n",
      "SUCCESS - saved https://encrypted-tbn0.gstatic.com/images?q=tbn%3AANd9GcQbDTLJ2FGhzgeh_yfIdk30htNvwkV38vNgkg&usqp=CAU - as E:/Scraping/images\\fire_extinguisher\\dd205b8d76.jpg\n"
     ]
    },
    {
     "name": "stderr",
     "output_type": "stream",
     "text": [
      "E:\\Anaconda\\lib\\site-packages\\PIL\\Image.py:989: UserWarning: Palette images with Transparency expressed in bytes should be converted to RGBA images\n",
      "  \"Palette images with Transparency expressed in bytes should be \"\n"
     ]
    },
    {
     "name": "stdout",
     "output_type": "stream",
     "text": [
      "SUCCESS - saved https://i0.wp.com/variex.in/wp-content/uploads/2018/09/modular-2k.png - as E:/Scraping/images\\fire_extinguisher\\e6f21f689b.jpg\n",
      "SUCCESS - saved https://encrypted-tbn0.gstatic.com/images?q=tbn%3AANd9GcTuuSvnH9Qrntkm6DQj8FZu9EQbYTA2XuQFNg&usqp=CAU - as E:/Scraping/images\\fire_extinguisher\\258ac1a43a.jpg\n",
      "SUCCESS - saved https://encrypted-tbn0.gstatic.com/images?q=tbn%3AANd9GcSior05aIFrpih3wwdmV8-ozVGlBZjwvOOr6w&usqp=CAU - as E:/Scraping/images\\fire_extinguisher\\e7010fad74.jpg\n",
      "SUCCESS - saved https://encrypted-tbn0.gstatic.com/images?q=tbn%3AANd9GcQBd3VxQ8ctQ6TChsZTqmGK8137dabcXsCa9A&usqp=CAU - as E:/Scraping/images\\fire_extinguisher\\5e7009b4f5.jpg\n",
      "SUCCESS - saved https://images-na.ssl-images-amazon.com/images/I/61%2BxTPonQvL._SL1000_.jpg - as E:/Scraping/images\\fire_extinguisher\\edd14bf113.jpg\n",
      "SUCCESS - saved https://encrypted-tbn0.gstatic.com/images?q=tbn%3AANd9GcQi54Vkl7dWmCZYG_KORkCUzitjXS4gZ9zhyg&usqp=CAU - as E:/Scraping/images\\fire_extinguisher\\3d17048cd3.jpg\n",
      "SUCCESS - saved https://media.rs-online.com/t_large/R0523128-01.jpg - as E:/Scraping/images\\fire_extinguisher\\15b0abc36d.jpg\n",
      "SUCCESS - saved https://images-na.ssl-images-amazon.com/images/I/61xcrL1ayEL._SL1000_.jpg - as E:/Scraping/images\\fire_extinguisher\\f6764e519e.jpg\n",
      "SUCCESS - saved https://encrypted-tbn0.gstatic.com/images?q=tbn%3AANd9GcTmWNCyDHcdm5DUyeFGdtxKPYCH3W6Hk-12uQ&usqp=CAU - as E:/Scraping/images\\fire_extinguisher\\d950e4a638.jpg\n",
      "SUCCESS - saved https://www.ispsafety.net/wp/wp-content/uploads/2019/08/fire-extinguisher-mumbai-1.jpg - as E:/Scraping/images\\fire_extinguisher\\b6f7022a38.jpg\n",
      "SUCCESS - saved https://encrypted-tbn0.gstatic.com/images?q=tbn%3AANd9GcQyKldhUYBfbiToG6-mbvm0wyqYDiC_345rAQ&usqp=CAU - as E:/Scraping/images\\fire_extinguisher\\5ffcddca9b.jpg\n",
      "SUCCESS - saved https://cdn10.bigcommerce.com/s-jxu1a/products/2624/images/5701/CO2__58669.1464567863.1280.1280.jpg?c=2 - as E:/Scraping/images\\fire_extinguisher\\6046bd553c.jpg\n",
      "SUCCESS - saved https://encrypted-tbn0.gstatic.com/images?q=tbn%3AANd9GcSN7lnk-SsGlePXPYNRcDKO-tV30a45VDVMpQ&usqp=CAU - as E:/Scraping/images\\fire_extinguisher\\6edb823919.jpg\n",
      "SUCCESS - saved https://cdn.shopify.com/s/files/1/0712/8717/products/4_kg_grande.png?v=1545210546 - as E:/Scraping/images\\fire_extinguisher\\e8825b0416.jpg\n",
      "SUCCESS - saved https://cpimg.tistatic.com/05813769/b/4/6-KG-ABC-Powder-Type-Fire-Extinguisher.jpg - as E:/Scraping/images\\fire_extinguisher\\7cea2c9659.jpg\n"
     ]
    },
    {
     "name": "stderr",
     "output_type": "stream",
     "text": [
      "E:\\Anaconda\\lib\\site-packages\\PIL\\Image.py:2817: UserWarning: image file could not be identified because WEBP support not installed\n",
      "  warnings.warn(message)\n"
     ]
    },
    {
     "name": "stdout",
     "output_type": "stream",
     "text": [
      "ERROR - Could not save https://static.wixstatic.com/media/cf66d3_38546f18e3904838aea738054a46b14d~mv2.png/v1/fill/w_480,h_480,al_c,q_90,usm_0.66_1.00_0.01/cf66d3_38546f18e3904838aea738054a46b14d~mv2.webp - cannot identify image file <_io.BytesIO object at 0x000000A2ADB3A7C8>\n",
      "SUCCESS - saved https://rukminim1.flixcart.com/image/352/352/jyafukw0/fire-extinguisher-mount/5/f/m/abc-powder-type-6-kg-fire-cylinder-rainx-original-imafgk5zmhqmgvys.jpeg?q=70 - as E:/Scraping/images\\fire_extinguisher\\895a1892e8.jpg\n",
      "SUCCESS - saved https://encrypted-tbn0.gstatic.com/images?q=tbn%3AANd9GcQVdItMVaUbXoleqe0DnSMkw4eLCTzI5oLJCw&usqp=CAU - as E:/Scraping/images\\fire_extinguisher\\d959bfe799.jpg\n",
      "SUCCESS - saved https://www.thespruce.com/thmb/HOkJ9QiswRy1LFbHLlahMSrPi3Y=/640x480/smart/filters:no_upscale()/AmerexB5005lbABCDryChemicalClassABCFireExtinguisher-591ccc8a5f9b58f4c01fa953.jpg - as E:/Scraping/images\\fire_extinguisher\\77e39b28f8.jpg\n",
      "SUCCESS - saved https://encrypted-tbn0.gstatic.com/images?q=tbn%3AANd9GcRwmj38p0GYPIhiFECytLZswjBZjY5Qmq-qJw&usqp=CAU - as E:/Scraping/images\\fire_extinguisher\\e69f7e3c64.jpg\n",
      "SUCCESS - saved https://encrypted-tbn0.gstatic.com/images?q=tbn%3AANd9GcSi6uq6TyN8PzRTkejBZ0bbpJgcIiyP9KG4Sg&usqp=CAU - as E:/Scraping/images\\fire_extinguisher\\caa6c1348e.jpg\n",
      "SUCCESS - saved https://encrypted-tbn0.gstatic.com/images?q=tbn%3AANd9GcRlgwZh55fulhxHMLak2kdv21zyUbYMXcnpAQ&usqp=CAU - as E:/Scraping/images\\fire_extinguisher\\dbf2ff75ce.jpg\n",
      "SUCCESS - saved https://encrypted-tbn0.gstatic.com/images?q=tbn%3AANd9GcTAp2SHUEO2ruIwTENEFyB-VVj2vmsDgHwFgw&usqp=CAU - as E:/Scraping/images\\fire_extinguisher\\1ba9d61126.jpg\n",
      "SUCCESS - saved https://static6.industrybuying.com/products_medium/safety/fire-extinguishers/abc-dry-powder-fire-extinguishers/SAF.ABC.81243266_1509088328118.jpg - as E:/Scraping/images\\fire_extinguisher\\86970b401d.jpg\n",
      "SUCCESS - saved https://s33644.pcdn.co/wp-content/uploads/2017/04/fire-extinguishers-lined-up-row-e1493220574511.jpeg - as E:/Scraping/images\\fire_extinguisher\\279c69c534.jpg\n",
      "SUCCESS - saved https://encrypted-tbn0.gstatic.com/images?q=tbn%3AANd9GcT7G_Hjy5p1qA6eOpZL1eWdZeha-4lq6tLtWg&usqp=CAU - as E:/Scraping/images\\fire_extinguisher\\eee1ab6607.jpg\n",
      "SUCCESS - saved https://encrypted-tbn0.gstatic.com/images?q=tbn%3AANd9GcRQKpaHHsK3q1g3qiuZQLkIPfWPdfIsyCzoqA&usqp=CAU - as E:/Scraping/images\\fire_extinguisher\\db6788e0f8.jpg\n",
      "SUCCESS - saved https://encrypted-tbn0.gstatic.com/images?q=tbn%3AANd9GcTAMZSGyJaPz3pGuNAla4FCgDiIi4F5zmPE5w&usqp=CAU - as E:/Scraping/images\\fire_extinguisher\\65980d2f30.jpg\n",
      "SUCCESS - saved https://encrypted-tbn0.gstatic.com/images?q=tbn%3AANd9GcRaJ09APKm56-9ErYAbHLPcQZveUwaNYoWPtA&usqp=CAU - as E:/Scraping/images\\fire_extinguisher\\6cba61d8ee.jpg\n",
      "SUCCESS - saved https://encrypted-tbn0.gstatic.com/images?q=tbn%3AANd9GcRIh55NkSM2KwfWNQIy7Q1LdN_9D_4Z8SEkAQ&usqp=CAU - as E:/Scraping/images\\fire_extinguisher\\789cfd8ac6.jpg\n",
      "SUCCESS - saved https://encrypted-tbn0.gstatic.com/images?q=tbn%3AANd9GcQWcvS4gMBukK81sXLI-amoaPOjWHSkXvc4sw&usqp=CAU - as E:/Scraping/images\\fire_extinguisher\\389164e77e.jpg\n",
      "SUCCESS - saved https://encrypted-tbn0.gstatic.com/images?q=tbn%3AANd9GcT4W004rdsoaQvjAH4BbSdwZ9OhttVrtTiEnA&usqp=CAU - as E:/Scraping/images\\fire_extinguisher\\bfb1d0ca0a.jpg\n",
      "SUCCESS - saved https://encrypted-tbn0.gstatic.com/images?q=tbn%3AANd9GcQ4ni-7DcjHPYYey9ydVzSgblU5qm4C-j0G9Q&usqp=CAU - as E:/Scraping/images\\fire_extinguisher\\a114c165ca.jpg\n",
      "SUCCESS - saved https://encrypted-tbn0.gstatic.com/images?q=tbn%3AANd9GcQhedeFViBO8udOGShyHXNi6qkPH1YFspIGew&usqp=CAU - as E:/Scraping/images\\fire_extinguisher\\1197d9bd84.jpg\n",
      "SUCCESS - saved https://encrypted-tbn0.gstatic.com/images?q=tbn%3AANd9GcT4ofkTToCNbeVnpdnCNF-z4_AqJ-303N4uqg&usqp=CAU - as E:/Scraping/images\\fire_extinguisher\\5ee6acecc8.jpg\n",
      "SUCCESS - saved https://encrypted-tbn0.gstatic.com/images?q=tbn%3AANd9GcQ6N_pbQY8WZ_f-YXk46O7Ls0OS4hbBI-74Bg&usqp=CAU - as E:/Scraping/images\\fire_extinguisher\\6cc8d6feaa.jpg\n",
      "SUCCESS - saved https://images-na.ssl-images-amazon.com/images/I/61eFjEgbc0L._SL1500_.jpg - as E:/Scraping/images\\fire_extinguisher\\15797ff3ff.jpg\n",
      "SUCCESS - saved https://image.made-in-china.com/2f0j00WsQEVTalotUo/DCP-Fire-Extinguishers-with-ISO-Certificated.jpg - as E:/Scraping/images\\fire_extinguisher\\84bff327ec.jpg\n",
      "SUCCESS - saved https://5.imimg.com/data5/DU/JC/MY-13066897/4-kg-abc-stored-pressure-fire-extinguishers-500x500.jpg - as E:/Scraping/images\\fire_extinguisher\\6460753e23.jpg\n",
      "SUCCESS - saved https://encrypted-tbn0.gstatic.com/images?q=tbn%3AANd9GcRS6ovxpSFeT8nsj9SA7Roub-j6L4lWWoyJXA&usqp=CAU - as E:/Scraping/images\\fire_extinguisher\\45aaf2d2dc.jpg\n",
      "SUCCESS - saved https://encrypted-tbn0.gstatic.com/images?q=tbn%3AANd9GcRsJGzY7NfiymAxnQro9xl48E0LVunyVetEVA&usqp=CAU - as E:/Scraping/images\\fire_extinguisher\\e27d2eef20.jpg\n",
      "SUCCESS - saved https://cdn10.bigcommerce.com/s-jxu1a/products/2480/images/5543/Sentry__69197.1464401910.500.750.jpg?c=2 - as E:/Scraping/images\\fire_extinguisher\\e3a19508b1.jpg\n",
      "SUCCESS - saved https://encrypted-tbn0.gstatic.com/images?q=tbn%3AANd9GcREkfScpTilyGCx90DjI0GIn7RSwQe_cTGcUA&usqp=CAU - as E:/Scraping/images\\fire_extinguisher\\ee0173a430.jpg\n",
      "SUCCESS - saved https://encrypted-tbn0.gstatic.com/images?q=tbn%3AANd9GcS-5Fw9wikSwIGwrbX0GKudUwvVeeszcdFFcQ&usqp=CAU - as E:/Scraping/images\\fire_extinguisher\\5497f6ef3a.jpg\n",
      "SUCCESS - saved https://encrypted-tbn0.gstatic.com/images?q=tbn%3AANd9GcRvL9G83fdvZC-XNyV20dAOpe5BEuO7IBQ2Sw&usqp=CAU - as E:/Scraping/images\\fire_extinguisher\\bb4c50afbd.jpg\n",
      "SUCCESS - saved https://cdn.shopclues.com/images/thumbnails/69820/640/1/118363139SAFEXABC4KGFIREEXTINGUISHERBROUCHER1493625228.jpg - as E:/Scraping/images\\fire_extinguisher\\284481e911.jpg\n",
      "SUCCESS - saved https://encrypted-tbn0.gstatic.com/images?q=tbn%3AANd9GcRqq0SL1b8KroZqxBxfZhTDe-1w_QFNkz5Oyw&usqp=CAU - as E:/Scraping/images\\fire_extinguisher\\d4e6ab9372.jpg\n"
     ]
    }
   ],
   "source": [
    "search_and_download ('fire extinguisher','E:/Scraping/chromedriver.exe','E:/Scraping/images',50)"
   ]
  },
  {
   "cell_type": "code",
   "execution_count": null,
   "metadata": {},
   "outputs": [],
   "source": []
  }
 ],
 "metadata": {
  "kernelspec": {
   "display_name": "Python 3",
   "language": "python",
   "name": "python3"
  },
  "language_info": {
   "codemirror_mode": {
    "name": "ipython",
    "version": 3
   },
   "file_extension": ".py",
   "mimetype": "text/x-python",
   "name": "python",
   "nbconvert_exporter": "python",
   "pygments_lexer": "ipython3",
   "version": "3.7.4"
  }
 },
 "nbformat": 4,
 "nbformat_minor": 2
}
